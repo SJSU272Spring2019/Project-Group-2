{
 "cells": [
  {
   "cell_type": "code",
   "execution_count": 8,
   "metadata": {},
   "outputs": [],
   "source": [
    "import findspark\n",
    "findspark.init()"
   ]
  },
  {
   "cell_type": "code",
   "execution_count": 9,
   "metadata": {},
   "outputs": [],
   "source": [
    "from pyspark.sql import SparkSession\n",
    "from pyspark.sql.functions import col"
   ]
  },
  {
   "cell_type": "code",
   "execution_count": 10,
   "metadata": {},
   "outputs": [],
   "source": [
    "import pandas as pd"
   ]
  },
  {
   "cell_type": "code",
   "execution_count": 11,
   "metadata": {},
   "outputs": [],
   "source": [
    "import re"
   ]
  },
  {
   "cell_type": "code",
   "execution_count": 12,
   "metadata": {},
   "outputs": [],
   "source": [
    "from pyspark.sql.types import IntegerType, StringType, StructType, StructField\n"
   ]
  },
  {
   "cell_type": "code",
   "execution_count": 13,
   "metadata": {},
   "outputs": [],
   "source": [
    "from collections import OrderedDict\n"
   ]
  },
  {
   "cell_type": "code",
   "execution_count": 14,
   "metadata": {},
   "outputs": [],
   "source": [
    "spark = SparkSession.builder\\\n",
    "        .appName(\"LogMining\")\\\n",
    "        .master(\"local\")\\\n",
    "        .config(\"spark.executor.cores\",\"6\")\\\n",
    "        .config(\"spark.executor.memory\",\"2g\")\\\n",
    "        .getOrCreate()"
   ]
  },
  {
   "cell_type": "code",
   "execution_count": null,
   "metadata": {},
   "outputs": [],
   "source": []
  },
  {
   "cell_type": "code",
   "execution_count": 15,
   "metadata": {},
   "outputs": [],
   "source": [
    "#StructField(\"EventId\", StringType(), True),\n",
    "#StructField(\"EventTemplate\", StringType(), True)\n",
    "# file = open(,\"r\")"
   ]
  },
  {
   "cell_type": "code",
   "execution_count": 161,
   "metadata": {},
   "outputs": [],
   "source": [
    "from pyspark.sql import Row\n"
   ]
  },
  {
   "cell_type": "code",
   "execution_count": 162,
   "metadata": {},
   "outputs": [],
   "source": [
    "APACHE_ACCESS_LOG_PATTERN = '^(\\S+) (\\S+) (\\S+) (\\S+) (\\S+) (.*)'\n"
   ]
  },
  {
   "cell_type": "code",
   "execution_count": 163,
   "metadata": {},
   "outputs": [],
   "source": [
    "logline = \"081109 203518 35 INFO dfs.FSNamesystem: BLOCK* NameSystem.allocateBlock: /mnt/hadoop/mapred/system/job_200811092030_0001/job.jar. blk_-1608999687919862906\""
   ]
  },
  {
   "cell_type": "code",
   "execution_count": 164,
   "metadata": {},
   "outputs": [
    {
     "data": {
      "text/plain": [
       "str"
      ]
     },
     "execution_count": 164,
     "metadata": {},
     "output_type": "execute_result"
    }
   ],
   "source": [
    "type(logline)"
   ]
  },
  {
   "cell_type": "code",
   "execution_count": 165,
   "metadata": {},
   "outputs": [],
   "source": [
    "match = re.findall(APACHE_ACCESS_LOG_PATTERN, logline)\n"
   ]
  },
  {
   "cell_type": "code",
   "execution_count": 166,
   "metadata": {},
   "outputs": [
    {
     "data": {
      "text/plain": [
       "('081109',\n",
       " '203518',\n",
       " '35',\n",
       " 'INFO',\n",
       " 'dfs.FSNamesystem:',\n",
       " 'BLOCK* NameSystem.allocateBlock: /mnt/hadoop/mapred/system/job_200811092030_0001/job.jar. blk_-1608999687919862906')"
      ]
     },
     "execution_count": 166,
     "metadata": {},
     "output_type": "execute_result"
    }
   ],
   "source": [
    "match[0]"
   ]
  },
  {
   "cell_type": "code",
   "execution_count": 167,
   "metadata": {},
   "outputs": [],
   "source": [
    "def parse_hdfs_log_line(logline):\n",
    "    match = re.findall(APACHE_ACCESS_LOG_PATTERN, logline)\n",
    "    if match is None:\n",
    "        raise Error(\"Invalid logline: %s\" % logline)\n",
    "    return Row(\n",
    "        Date =  match[0][0],\n",
    "        Time    = match[0][1],\n",
    "        Pid =   match[0][2],\n",
    "        Level =  match[0][3],\n",
    "        Component        = match[0][4],\n",
    "        Content      = match[0][5])"
   ]
  },
  {
   "cell_type": "code",
   "execution_count": 168,
   "metadata": {},
   "outputs": [],
   "source": [
    "abc = parse_hdfs_log_line(logline)"
   ]
  },
  {
   "cell_type": "code",
   "execution_count": null,
   "metadata": {},
   "outputs": [],
   "source": [
    " "
   ]
  },
  {
   "cell_type": "code",
   "execution_count": 169,
   "metadata": {},
   "outputs": [
    {
     "name": "stdout",
     "output_type": "stream",
     "text": [
      "BLOCK* NameSystem<*>addStoredBlock: blockMap updated: <*>:<*> is added to blk_<*> size <*>\n"
     ]
    }
   ],
   "source": [
    "s = \"BLOCK* NameSystem.addStoredBlock: blockMap updated: 10.251.73.220:50010 is added to blk_7128370237687728475 size 67108864\"\n",
    "s = re.sub(\"[\\d.-]+\", \"<*>\", s)\n",
    "print(s)"
   ]
  },
  {
   "cell_type": "code",
   "execution_count": 170,
   "metadata": {},
   "outputs": [],
   "source": [
    "# fo = open(\"abc.txt\", \"r\")\n",
    "# file_line = fo.readlines()\n"
   ]
  },
  {
   "cell_type": "code",
   "execution_count": 171,
   "metadata": {},
   "outputs": [],
   "source": [
    "# file_line"
   ]
  },
  {
   "cell_type": "code",
   "execution_count": 172,
   "metadata": {},
   "outputs": [],
   "source": [
    "# file_line[1]"
   ]
  },
  {
   "cell_type": "code",
   "execution_count": 173,
   "metadata": {},
   "outputs": [],
   "source": [
    "customSchema = StructType([\n",
    "    StructField(\"Date\", IntegerType(), True),\n",
    "    StructField(\"Time\", IntegerType(), True),\n",
    "    StructField(\"Pid\", IntegerType(), True),\n",
    "    StructField(\"Pid\", IntegerType(), True),\n",
    "    StructField(\"Component\", StringType(), True),\n",
    "    StructField(\"Content\", StringType(), True),\n",
    "#     StructField(\"EventId\", StringType(), True),\n",
    "#     StructField(\"EventTemplate\", StringType(), True)\n",
    "    \n",
    "])"
   ]
  },
  {
   "cell_type": "code",
   "execution_count": 174,
   "metadata": {},
   "outputs": [],
   "source": [
    "import hashlib"
   ]
  },
  {
   "cell_type": "code",
   "execution_count": 175,
   "metadata": {},
   "outputs": [],
   "source": [
    "def parse_hdfs_file(file):\n",
    "    ab = []\n",
    "    file_line = file.readlines()\n",
    "    for line in range(len(file_line)):\n",
    "        match = re.findall(APACHE_ACCESS_LOG_PATTERN, file_line[line])\n",
    "        for mat in range(len(match)):\n",
    "            bd = re.sub(\"[\\d.-]+\", \"<*>\", match[mat][5])\n",
    "            eventid = hashlib.md5(' '.join(bd).encode('utf-8')).hexdigest()[0:8]\n",
    "            ab.append(Row(Date =  match[mat][0],Time = match[mat][1],Pid =match[mat][2],Level =  match[mat][3],Component   = match[mat][4],Content  = match[mat][5], EventTemplate=bd, EventId =eventid ))\n",
    "    return ab \n",
    "    "
   ]
  },
  {
   "cell_type": "code",
   "execution_count": 176,
   "metadata": {},
   "outputs": [],
   "source": [
    "fo = open(\"abc.txt\", \"r\")\n"
   ]
  },
  {
   "cell_type": "code",
   "execution_count": 177,
   "metadata": {},
   "outputs": [],
   "source": [
    "orkuh = parse_hdfs_file(fo)"
   ]
  },
  {
   "cell_type": "code",
   "execution_count": 178,
   "metadata": {},
   "outputs": [
    {
     "data": {
      "text/plain": [
       "[Row(Component='dfs.DataNode$DataXceiver:', Content='Receiving block blk_-1608999687919862906 src: /10.250.19.102:54106 dest: /10.250.19.102:50010', Date='081109', EventId='2ea739e7', EventTemplate='Receiving block blk_<*> src: /<*>:<*> dest: /<*>:<*>', Level='INFO', Pid='143', Time='203518'),\n",
       " Row(Component='dfs.FSNamesystem:', Content='BLOCK* NameSystem.allocateBlock: /mnt/hadoop/mapred/system/job_200811092030_0001/job.jar. blk_-1608999687919862906', Date='081109', EventId='8b9dee11', EventTemplate='BLOCK* NameSystem<*>allocateBlock: /mnt/hadoop/mapred/system/job_<*>_<*>/job<*>jar<*> blk_<*>', Level='INFO', Pid='35', Time='203518'),\n",
       " Row(Component='dfs.DataNode$DataXceiver:', Content='Receiving block blk_-1608999687919862906 src: /10.250.10.6:40524 dest: /10.250.10.6:50010', Date='081109', EventId='2ea739e7', EventTemplate='Receiving block blk_<*> src: /<*>:<*> dest: /<*>:<*>', Level='INFO', Pid='143', Time='203519'),\n",
       " Row(Component='dfs.DataNode$DataXceiver:', Content='Receiving block blk_-1608999687919862906 src: /10.250.14.224:42420 dest: /10.250.14.224:50010', Date='081109', EventId='2ea739e7', EventTemplate='Receiving block blk_<*> src: /<*>:<*> dest: /<*>:<*>', Level='INFO', Pid='145', Time='203519'),\n",
       " Row(Component='dfs.DataNode$PacketResponder:', Content='PacketResponder 1 for block blk_-1608999687919862906 terminating', Date='081109', EventId='fd96e398', EventTemplate='PacketResponder <*> for block blk_<*> terminating', Level='INFO', Pid='145', Time='203519'),\n",
       " Row(Component='dfs.DataNode$PacketResponder:', Content='PacketResponder 2 for block blk_-1608999687919862906 terminating', Date='081109', EventId='fd96e398', EventTemplate='PacketResponder <*> for block blk_<*> terminating', Level='INFO', Pid='145', Time='203519'),\n",
       " Row(Component='dfs.DataNode$PacketResponder:', Content='Received block blk_-1608999687919862906 of size 91178 from /10.250.10.6', Date='081109', EventId='a7fb7c2e', EventTemplate='Received block blk_<*> of size <*> from /<*>', Level='INFO', Pid='145', Time='203519'),\n",
       " Row(Component='dfs.DataNode$PacketResponder:', Content='Received block blk_-1608999687919862906 of size 91178 from /10.250.19.102', Date='081109', EventId='a7fb7c2e', EventTemplate='Received block blk_<*> of size <*> from /<*>', Level='INFO', Pid='145', Time='203519'),\n",
       " Row(Component='dfs.DataNode$PacketResponder:', Content='PacketResponder 0 for block blk_-1608999687919862906 terminating', Date='081109', EventId='fd96e398', EventTemplate='PacketResponder <*> for block blk_<*> terminating', Level='INFO', Pid='147', Time='203519'),\n",
       " Row(Component='dfs.DataNode$PacketResponder:', Content='Received block blk_-1608999687919862906 of size 91178 from /10.250.14.224', Date='081109', EventId='a7fb7c2e', EventTemplate='Received block blk_<*> of size <*> from /<*>', Level='INFO', Pid='147', Time='203519'),\n",
       " Row(Component='dfs.FSNamesystem:', Content='BLOCK* NameSystem.addStoredBlock: blockMap updated: 10.250.10.6:50010 is added to blk_-1608999687919862906 size 91178', Date='081109', EventId='1defe93d', EventTemplate='BLOCK* NameSystem<*>addStoredBlock: blockMap updated: <*>:<*> is added to blk_<*> size <*>', Level='INFO', Pid='29', Time='203519'),\n",
       " Row(Component='dfs.FSNamesystem:', Content='BLOCK* NameSystem.addStoredBlock: blockMap updated: 10.251.111.209:50010 is added to blk_-1608999687919862906 size 91178', Date='081109', EventId='1defe93d', EventTemplate='BLOCK* NameSystem<*>addStoredBlock: blockMap updated: <*>:<*> is added to blk_<*> size <*>', Level='INFO', Pid='30', Time='203519'),\n",
       " Row(Component='dfs.FSNamesystem:', Content='BLOCK* NameSystem.addStoredBlock: blockMap updated: 10.250.14.224:50010 is added to blk_-1608999687919862906 size 91178', Date='081109', EventId='1defe93d', EventTemplate='BLOCK* NameSystem<*>addStoredBlock: blockMap updated: <*>:<*> is added to blk_<*> size <*>', Level='INFO', Pid='31', Time='203519'),\n",
       " Row(Component='dfs.DataNode$DataXceiver:', Content='Receiving block blk_7503483334202473044 src: /10.251.215.16:55695 dest: /10.251.215.16:50010', Date='081109', EventId='2ea739e7', EventTemplate='Receiving block blk_<*> src: /<*>:<*> dest: /<*>:<*>', Level='INFO', Pid='142', Time='203520'),\n",
       " Row(Component='dfs.DataNode$DataXceiver:', Content='Receiving block blk_7503483334202473044 src: /10.250.19.102:34232 dest: /10.250.19.102:50010', Date='081109', EventId='2ea739e7', EventTemplate='Receiving block blk_<*> src: /<*>:<*> dest: /<*>:<*>', Level='INFO', Pid='145', Time='203520'),\n",
       " Row(Component='dfs.FSNamesystem:', Content='BLOCK* NameSystem.allocateBlock: /mnt/hadoop/mapred/system/job_200811092030_0001/job.split. blk_7503483334202473044', Date='081109', EventId='66a23a40', EventTemplate='BLOCK* NameSystem<*>allocateBlock: /mnt/hadoop/mapred/system/job_<*>_<*>/job<*>split<*> blk_<*>', Level='INFO', Pid='26', Time='203520'),\n",
       " Row(Component='dfs.DataNode$DataXceiver:', Content='Received block blk_-1608999687919862906 src: /10.251.215.16:52002 dest: /10.251.215.16:50010 of size 91178', Date='081109', EventId='1cb650a2', EventTemplate='Received block blk_<*> src: /<*>:<*> dest: /<*>:<*> of size <*>', Level='INFO', Pid='143', Time='203521'),\n",
       " Row(Component='dfs.DataNode$DataXceiver:', Content='Receiving block blk_-1608999687919862906 src: /10.251.215.16:52002 dest: /10.251.215.16:50010', Date='081109', EventId='2ea739e7', EventTemplate='Receiving block blk_<*> src: /<*>:<*> dest: /<*>:<*>', Level='INFO', Pid='143', Time='203521'),\n",
       " Row(Component='dfs.DataNode$DataXceiver:', Content='Receiving block blk_7503483334202473044 src: /10.251.71.16:51590 dest: /10.251.71.16:50010', Date='081109', EventId='2ea739e7', EventTemplate='Receiving block blk_<*> src: /<*>:<*> dest: /<*>:<*>', Level='INFO', Pid='144', Time='203521'),\n",
       " Row(Component='dfs.DataNode$DataXceiver:', Content='Receiving block blk_-3544583377289625738 src: /10.250.19.102:39325 dest: /10.250.19.102:50010', Date='081109', EventId='2ea739e7', EventTemplate='Receiving block blk_<*> src: /<*>:<*> dest: /<*>:<*>', Level='INFO', Pid='145', Time='203521'),\n",
       " Row(Component='dfs.DataNode$PacketResponder:', Content='PacketResponder 1 for block blk_7503483334202473044 terminating', Date='081109', EventId='fd96e398', EventTemplate='PacketResponder <*> for block blk_<*> terminating', Level='INFO', Pid='145', Time='203521'),\n",
       " Row(Component='dfs.DataNode$PacketResponder:', Content='Received block blk_7503483334202473044 of size 233217 from /10.251.215.16', Date='081109', EventId='a7fb7c2e', EventTemplate='Received block blk_<*> of size <*> from /<*>', Level='INFO', Pid='145', Time='203521'),\n",
       " Row(Component='dfs.DataNode$PacketResponder:', Content='PacketResponder 0 for block blk_7503483334202473044 terminating', Date='081109', EventId='fd96e398', EventTemplate='PacketResponder <*> for block blk_<*> terminating', Level='INFO', Pid='146', Time='203521'),\n",
       " Row(Component='dfs.DataNode$PacketResponder:', Content='Received block blk_7503483334202473044 of size 233217 from /10.251.71.16', Date='081109', EventId='a7fb7c2e', EventTemplate='Received block blk_<*> of size <*> from /<*>', Level='INFO', Pid='146', Time='203521'),\n",
       " Row(Component='dfs.DataNode$DataTransfer:', Content='10.250.14.224:50010:Transmitted block blk_-1608999687919862906 to /10.251.215.16:50010', Date='081109', EventId='6c9db9d3', EventTemplate='<*>:<*>:Transmitted block blk_<*> to /<*>:<*>', Level='INFO', Pid='147', Time='203521'),\n",
       " Row(Component='dfs.DataNode$DataXceiver:', Content='Received block blk_-1608999687919862906 src: /10.250.14.224:35754 dest: /10.250.14.224:50010 of size 91178', Date='081109', EventId='1cb650a2', EventTemplate='Received block blk_<*> src: /<*>:<*> dest: /<*>:<*> of size <*>', Level='INFO', Pid='147', Time='203521'),\n",
       " Row(Component='dfs.DataNode$DataXceiver:', Content='Receiving block blk_-1608999687919862906 src: /10.250.14.224:35754 dest: /10.250.14.224:50010', Date='081109', EventId='2ea739e7', EventTemplate='Receiving block blk_<*> src: /<*>:<*> dest: /<*>:<*>', Level='INFO', Pid='147', Time='203521'),\n",
       " Row(Component='dfs.DataNode$PacketResponder:', Content='PacketResponder 2 for block blk_7503483334202473044 terminating', Date='081109', EventId='fd96e398', EventTemplate='PacketResponder <*> for block blk_<*> terminating', Level='INFO', Pid='148', Time='203521'),\n",
       " Row(Component='dfs.DataNode$PacketResponder:', Content='Received block blk_7503483334202473044 of size 233217 from /10.250.19.102', Date='081109', EventId='a7fb7c2e', EventTemplate='Received block blk_<*> of size <*> from /<*>', Level='INFO', Pid='148', Time='203521'),\n",
       " Row(Component='dfs.DataNode:', Content='10.250.14.224:50010 Starting thread to transfer block blk_-1608999687919862906 to 10.251.215.16:50010, 10.251.71.193:50010', Date='081109', EventId='0193e112', EventTemplate='<*>:<*> Starting thread to transfer block blk_<*> to <*>:<*>, <*>:<*>', Level='INFO', Pid='19', Time='203521'),\n",
       " Row(Component='dfs.FSNamesystem:', Content='BLOCK* ask 10.250.14.224:50010 to replicate blk_-1608999687919862906 to datanode(s) 10.251.215.16:50010 10.251.71.193:50010', Date='081109', EventId='6bcaef6a', EventTemplate='BLOCK* ask <*>:<*> to replicate blk_<*> to datanode(s) <*>:<*> <*>:<*>', Level='INFO', Pid='19', Time='203521'),\n",
       " Row(Component='dfs.FSNamesystem:', Content='BLOCK* NameSystem.addStoredBlock: blockMap updated: 10.251.106.10:50010 is added to blk_7503483334202473044 size 233217', Date='081109', EventId='1defe93d', EventTemplate='BLOCK* NameSystem<*>addStoredBlock: blockMap updated: <*>:<*> is added to blk_<*> size <*>', Level='INFO', Pid='27', Time='203521'),\n",
       " Row(Component='dfs.FSNamesystem:', Content='BLOCK* NameSystem.allocateBlock: /mnt/hadoop/mapred/system/job_200811092030_0001/job.xml. blk_-3544583377289625738', Date='081109', EventId='62adf7b3', EventTemplate='BLOCK* NameSystem<*>allocateBlock: /mnt/hadoop/mapred/system/job_<*>_<*>/job<*>xml<*> blk_<*>', Level='INFO', Pid='29', Time='203521'),\n",
       " Row(Component='dfs.FSNamesystem:', Content='BLOCK* NameSystem.addStoredBlock: blockMap updated: 10.251.71.193:50010 is added to blk_-1608999687919862906 size 91178', Date='081109', EventId='1defe93d', EventTemplate='BLOCK* NameSystem<*>addStoredBlock: blockMap updated: <*>:<*> is added to blk_<*> size <*>', Level='INFO', Pid='30', Time='203521'),\n",
       " Row(Component='dfs.FSNamesystem:', Content='BLOCK* NameSystem.addStoredBlock: blockMap updated: 10.251.215.16:50010 is added to blk_7503483334202473044 size 233217', Date='081109', EventId='1defe93d', EventTemplate='BLOCK* NameSystem<*>addStoredBlock: blockMap updated: <*>:<*> is added to blk_<*> size <*>', Level='INFO', Pid='33', Time='203521'),\n",
       " Row(Component='dfs.FSNamesystem:', Content='BLOCK* NameSystem.addStoredBlock: blockMap updated: 10.251.215.16:50010 is added to blk_-1608999687919862906 size 91178', Date='081109', EventId='1defe93d', EventTemplate='BLOCK* NameSystem<*>addStoredBlock: blockMap updated: <*>:<*> is added to blk_<*> size <*>', Level='INFO', Pid='34', Time='203521'),\n",
       " Row(Component='dfs.FSNamesystem:', Content='BLOCK* NameSystem.addStoredBlock: blockMap updated: 10.251.71.16:50010 is added to blk_7503483334202473044 size 233217', Date='081109', EventId='1defe93d', EventTemplate='BLOCK* NameSystem<*>addStoredBlock: blockMap updated: <*>:<*> is added to blk_<*> size <*>', Level='INFO', Pid='35', Time='203521'),\n",
       " Row(Component='dfs.DataNode$DataXceiver:', Content='Receiving block blk_-3544583377289625738 src: /10.251.197.226:60229 dest: /10.251.197.226:50010', Date='081109', EventId='2ea739e7', EventTemplate='Receiving block blk_<*> src: /<*>:<*> dest: /<*>:<*>', Level='INFO', Pid='144', Time='203522'),\n",
       " Row(Component='dfs.DataNode$DataXceiver:', Content='Receiving block blk_-3544583377289625738 src: /10.250.11.100:54800 dest: /10.250.11.100:50010', Date='081109', EventId='2ea739e7', EventTemplate='Receiving block blk_<*> src: /<*>:<*> dest: /<*>:<*>', Level='INFO', Pid='145', Time='203522'),\n",
       " Row(Component='dfs.DataNode$PacketResponder:', Content='PacketResponder 2 for block blk_-3544583377289625738 terminating', Date='081109', EventId='fd96e398', EventTemplate='PacketResponder <*> for block blk_<*> terminating', Level='INFO', Pid='147', Time='203522'),\n",
       " Row(Component='dfs.DataNode$PacketResponder:', Content='Received block blk_-3544583377289625738 of size 11971 from /10.250.19.102', Date='081109', EventId='a7fb7c2e', EventTemplate='Received block blk_<*> of size <*> from /<*>', Level='INFO', Pid='147', Time='203522'),\n",
       " Row(Component='dfs.DataNode$DataXceiver:', Content='Receiving block blk_-9073992586687739851 src: /10.250.19.102:37673 dest: /10.250.19.102:50010', Date='081109', EventId='2ea739e7', EventTemplate='Receiving block blk_<*> src: /<*>:<*> dest: /<*>:<*>', Level='INFO', Pid='143', Time='203523'),\n",
       " Row(Component='dfs.DataNode$PacketResponder:', Content='PacketResponder 1 for block blk_-3544583377289625738 terminating', Date='081109', EventId='fd96e398', EventTemplate='PacketResponder <*> for block blk_<*> terminating', Level='INFO', Pid='146', Time='203523'),\n",
       " Row(Component='dfs.DataNode$PacketResponder:', Content='Received block blk_-3544583377289625738 of size 11971 from /10.251.197.226', Date='081109', EventId='a7fb7c2e', EventTemplate='Received block blk_<*> of size <*> from /<*>', Level='INFO', Pid='146', Time='203523'),\n",
       " Row(Component='dfs.DataNode$PacketResponder:', Content='PacketResponder 0 for block blk_-3544583377289625738 terminating', Date='081109', EventId='fd96e398', EventTemplate='PacketResponder <*> for block blk_<*> terminating', Level='INFO', Pid='147', Time='203523'),\n",
       " Row(Component='dfs.DataNode$PacketResponder:', Content='Received block blk_-3544583377289625738 of size 11971 from /10.250.11.100', Date='081109', EventId='a7fb7c2e', EventTemplate='Received block blk_<*> of size <*> from /<*>', Level='INFO', Pid='147', Time='203523'),\n",
       " Row(Component='dfs.DataNode$DataXceiver:', Content='10.250.11.100:50010 Served block blk_-3544583377289625738 to /10.250.19.102', Date='081109', EventId='0ec49ccc', EventTemplate='<*>:<*> Served block blk_<*> to /<*>', Level='INFO', Pid='148', Time='203523'),\n",
       " Row(Component='dfs.DataNode$DataXceiver:', Content='10.251.111.209:50010 Served block blk_-1608999687919862906 to /10.250.19.102', Date='081109', EventId='0ec49ccc', EventTemplate='<*>:<*> Served block blk_<*> to /<*>', Level='INFO', Pid='149', Time='203523'),\n",
       " Row(Component='dfs.FSNamesystem:', Content='BLOCK* NameSystem.allocateBlock: /user/root/rand/_logs/history/ip-10-250-19-102.ec2.internal_1226291400491_job_200811092030_0001_conf.xml. blk_-9073992586687739851', Date='081109', EventId='159ab19e', EventTemplate='BLOCK* NameSystem<*>allocateBlock: /user/root/rand/_logs/history/ip<*>ec<*>internal_<*>_job_<*>_<*>_conf<*>xml<*> blk_<*>', Level='INFO', Pid='28', Time='203523'),\n",
       " Row(Component='dfs.FSNamesystem:', Content='BLOCK* NameSystem.addStoredBlock: blockMap updated: 10.251.39.179:50010 is added to blk_-3544583377289625738 size 11971', Date='081109', EventId='1defe93d', EventTemplate='BLOCK* NameSystem<*>addStoredBlock: blockMap updated: <*>:<*> is added to blk_<*> size <*>', Level='INFO', Pid='29', Time='203523'),\n",
       " Row(Component='dfs.FSNamesystem:', Content='BLOCK* NameSystem.addStoredBlock: blockMap updated: 10.250.11.100:50010 is added to blk_-3544583377289625738 size 11971', Date='081109', EventId='1defe93d', EventTemplate='BLOCK* NameSystem<*>addStoredBlock: blockMap updated: <*>:<*> is added to blk_<*> size <*>', Level='INFO', Pid='33', Time='203523'),\n",
       " Row(Component='dfs.FSNamesystem:', Content='BLOCK* NameSystem.addStoredBlock: blockMap updated: 10.251.197.226:50010 is added to blk_-3544583377289625738 size 11971', Date='081109', EventId='1defe93d', EventTemplate='BLOCK* NameSystem<*>addStoredBlock: blockMap updated: <*>:<*> is added to blk_<*> size <*>', Level='INFO', Pid='33', Time='203523'),\n",
       " Row(Component='dfs.DataNode$DataXceiver:', Content='Receiving block blk_-9073992586687739851 src: /10.250.14.196:39576 dest: /10.250.14.196:50010', Date='081109', EventId='2ea739e7', EventTemplate='Receiving block blk_<*> src: /<*>:<*> dest: /<*>:<*>', Level='INFO', Pid='143', Time='203524'),\n",
       " Row(Component='dfs.DataNode$DataXceiver:', Content='Receiving block blk_-9073992586687739851 src: /10.250.7.244:39735 dest: /10.250.7.244:50010', Date='081109', EventId='2ea739e7', EventTemplate='Receiving block blk_<*> src: /<*>:<*> dest: /<*>:<*>', Level='INFO', Pid='144', Time='203524'),\n",
       " Row(Component='dfs.DataNode$PacketResponder:', Content='PacketResponder 2 for block blk_-9073992586687739851 terminating', Date='081109', EventId='fd96e398', EventTemplate='PacketResponder <*> for block blk_<*> terminating', Level='INFO', Pid='145', Time='203524'),\n",
       " Row(Component='dfs.DataNode$PacketResponder:', Content='Received block blk_-9073992586687739851 of size 11977 from /10.250.19.102', Date='081109', EventId='a7fb7c2e', EventTemplate='Received block blk_<*> of size <*> from /<*>', Level='INFO', Pid='145', Time='203524'),\n",
       " Row(Component='dfs.DataNode$PacketResponder:', Content='PacketResponder 0 for block blk_-9073992586687739851 terminating', Date='081109', EventId='fd96e398', EventTemplate='PacketResponder <*> for block blk_<*> terminating', Level='INFO', Pid='146', Time='203524'),\n",
       " Row(Component='dfs.DataNode$PacketResponder:', Content='Received block blk_-9073992586687739851 of size 11977 from /10.250.14.196', Date='081109', EventId='a7fb7c2e', EventTemplate='Received block blk_<*> of size <*> from /<*>', Level='INFO', Pid='146', Time='203524'),\n",
       " Row(Component='dfs.DataNode$PacketResponder:', Content='PacketResponder 1 for block blk_-9073992586687739851 terminating', Date='081109', EventId='fd96e398', EventTemplate='PacketResponder <*> for block blk_<*> terminating', Level='INFO', Pid='147', Time='203524'),\n",
       " Row(Component='dfs.DataNode$PacketResponder:', Content='Received block blk_-9073992586687739851 of size 11977 from /10.250.7.244', Date='081109', EventId='a7fb7c2e', EventTemplate='Received block blk_<*> of size <*> from /<*>', Level='INFO', Pid='147', Time='203524'),\n",
       " Row(Component='dfs.FSNamesystem:', Content='BLOCK* ask 10.251.215.16:50010 to replicate blk_-1608999687919862906 to datanode(s) 10.251.74.79:50010 10.251.107.19:50010', Date='081109', EventId='6bcaef6a', EventTemplate='BLOCK* ask <*>:<*> to replicate blk_<*> to datanode(s) <*>:<*> <*>:<*>', Level='INFO', Pid='19', Time='203524'),\n",
       " Row(Component='dfs.FSNamesystem:', Content='BLOCK* NameSystem.addStoredBlock: blockMap updated: 10.251.89.155:50010 is added to blk_-9073992586687739851 size 11977', Date='081109', EventId='1defe93d', EventTemplate='BLOCK* NameSystem<*>addStoredBlock: blockMap updated: <*>:<*> is added to blk_<*> size <*>', Level='INFO', Pid='27', Time='203524'),\n",
       " Row(Component='dfs.FSNamesystem:', Content='BLOCK* NameSystem.addStoredBlock: blockMap updated: 10.250.7.244:50010 is added to blk_-9073992586687739851 size 11977', Date='081109', EventId='1defe93d', EventTemplate='BLOCK* NameSystem<*>addStoredBlock: blockMap updated: <*>:<*> is added to blk_<*> size <*>', Level='INFO', Pid='34', Time='203524'),\n",
       " Row(Component='dfs.FSNamesystem:', Content='BLOCK* NameSystem.addStoredBlock: blockMap updated: 10.250.14.196:50010 is added to blk_-9073992586687739851 size 11977', Date='081109', EventId='1defe93d', EventTemplate='BLOCK* NameSystem<*>addStoredBlock: blockMap updated: <*>:<*> is added to blk_<*> size <*>', Level='INFO', Pid='35', Time='203524'),\n",
       " Row(Component='dfs.DataNode$DataXceiver:', Content='10.251.215.16:50010 Served block blk_7503483334202473044 to /10.250.19.102', Date='081109', EventId='0ec49ccc', EventTemplate='<*>:<*> Served block blk_<*> to /<*>', Level='INFO', Pid='150', Time='203525'),\n",
       " Row(Component='dfs.DataNode$DataXceiver:', Content='Received block blk_-1608999687919862906 src: /10.251.215.16:51177 dest: /10.251.215.16:50010 of size 91178', Date='081109', EventId='1cb650a2', EventTemplate='Received block blk_<*> src: /<*>:<*> dest: /<*>:<*> of size <*>', Level='INFO', Pid='146', Time='203526'),\n",
       " Row(Component='dfs.DataNode$DataXceiver:', Content='Received block blk_-1608999687919862906 src: /10.251.74.79:60333 dest: /10.251.74.79:50010 of size 91178', Date='081109', EventId='1cb650a2', EventTemplate='Received block blk_<*> src: /<*>:<*> dest: /<*>:<*> of size <*>', Level='INFO', Pid='146', Time='203526'),\n",
       " Row(Component='dfs.DataNode$DataXceiver:', Content='Receiving block blk_-1608999687919862906 src: /10.251.215.16:51177 dest: /10.251.215.16:50010', Date='081109', EventId='2ea739e7', EventTemplate='Receiving block blk_<*> src: /<*>:<*> dest: /<*>:<*>', Level='INFO', Pid='146', Time='203526'),\n",
       " Row(Component='dfs.DataNode$DataXceiver:', Content='Receiving block blk_-1608999687919862906 src: /10.251.74.79:60333 dest: /10.251.74.79:50010', Date='081109', EventId='2ea739e7', EventTemplate='Receiving block blk_<*> src: /<*>:<*> dest: /<*>:<*>', Level='INFO', Pid='146', Time='203526'),\n",
       " Row(Component='dfs.DataNode$DataXceiver:', Content='10.251.39.179:50010 Served block blk_-3544583377289625738 to /10.250.18.114', Date='081109', EventId='0ec49ccc', EventTemplate='<*>:<*> Served block blk_<*> to /<*>', Level='INFO', Pid='149', Time='203526'),\n",
       " Row(Component='dfs.DataNode$DataXceiver:', Content='10.251.197.226:50010 Served block blk_-3544583377289625738 to /10.251.199.225', Date='081109', EventId='0ec49ccc', EventTemplate='<*>:<*> Served block blk_<*> to /<*>', Level='INFO', Pid='150', Time='203526'),\n",
       " Row(Component='dfs.DataNode$DataXceiver:', Content='10.251.197.226:50010 Served block blk_-3544583377289625738 to /10.251.30.85', Date='081109', EventId='0ec49ccc', EventTemplate='<*>:<*> Served block blk_<*> to /<*>', Level='INFO', Pid='151', Time='203526'),\n",
       " Row(Component='dfs.DataNode$DataTransfer:', Content='10.251.215.16:50010:Transmitted block blk_-1608999687919862906 to /10.251.74.79:50010', Date='081109', EventId='6c9db9d3', EventTemplate='<*>:<*>:Transmitted block blk_<*> to /<*>:<*>', Level='INFO', Pid='152', Time='203526'),\n",
       " Row(Component='dfs.DataNode:', Content='10.251.215.16:50010 Starting thread to transfer block blk_-1608999687919862906 to 10.251.74.79:50010, 10.251.107.19:50010', Date='081109', EventId='0193e112', EventTemplate='<*>:<*> Starting thread to transfer block blk_<*> to <*>:<*>, <*>:<*>', Level='INFO', Pid='19', Time='203526'),\n",
       " Row(Component='dfs.FSNamesystem:', Content='BLOCK* NameSystem.addStoredBlock: blockMap updated: 10.251.74.79:50010 is added to blk_-1608999687919862906 size 91178', Date='081109', EventId='1defe93d', EventTemplate='BLOCK* NameSystem<*>addStoredBlock: blockMap updated: <*>:<*> is added to blk_<*> size <*>', Level='INFO', Pid='28', Time='203526'),\n",
       " Row(Component='dfs.FSNamesystem:', Content='BLOCK* NameSystem.addStoredBlock: blockMap updated: 10.251.107.19:50010 is added to blk_-1608999687919862906 size 91178', Date='081109', EventId='1defe93d', EventTemplate='BLOCK* NameSystem<*>addStoredBlock: blockMap updated: <*>:<*> is added to blk_<*> size <*>', Level='INFO', Pid='29', Time='203526'),\n",
       " Row(Component='dfs.DataNode$DataXceiver:', Content='Receiving block blk_-1608999687919862906 src: /10.251.31.5:53020 dest: /10.251.31.5:50010', Date='081109', EventId='2ea739e7', EventTemplate='Receiving block blk_<*> src: /<*>:<*> dest: /<*>:<*>', Level='INFO', Pid='145', Time='203527'),\n",
       " Row(Component='dfs.DataNode$DataXceiver:', Content='Received block blk_-1608999687919862906 src: /10.251.107.19:56341 dest: /10.251.107.19:50010 of size 91178', Date='081109', EventId='1cb650a2', EventTemplate='Received block blk_<*> src: /<*>:<*> dest: /<*>:<*> of size <*>', Level='INFO', Pid='147', Time='203527'),\n",
       " Row(Component='dfs.DataNode$DataXceiver:', Content='Receiving block blk_-1608999687919862906 src: /10.251.107.19:56341 dest: /10.251.107.19:50010', Date='081109', EventId='2ea739e7', EventTemplate='Receiving block blk_<*> src: /<*>:<*> dest: /<*>:<*>', Level='INFO', Pid='147', Time='203527'),\n",
       " Row(Component='dfs.DataNode$DataTransfer:', Content='10.251.107.19:50010:Transmitted block blk_-1608999687919862906 to /10.251.31.5:50010', Date='081109', EventId='6c9db9d3', EventTemplate='<*>:<*>:Transmitted block blk_<*> to /<*>:<*>', Level='INFO', Pid='148', Time='203527'),\n",
       " Row(Component='dfs.DataNode$DataXceiver:', Content='10.250.10.6:50010 Served block blk_-1608999687919862906 to /10.250.18.114', Date='081109', EventId='0ec49ccc', EventTemplate='<*>:<*> Served block blk_<*> to /<*>', Level='INFO', Pid='149', Time='203527'),\n",
       " Row(Component='dfs.DataNode$DataXceiver:', Content='10.250.10.6:50010 Served block blk_-1608999687919862906 to /10.251.203.149', Date='081109', EventId='0ec49ccc', EventTemplate='<*>:<*> Served block blk_<*> to /<*>', Level='INFO', Pid='150', Time='203527'),\n",
       " Row(Component='dfs.DataNode$DataXceiver:', Content='10.250.11.100:50010 Served block blk_-3544583377289625738 to /10.251.31.5', Date='081109', EventId='0ec49ccc', EventTemplate='<*>:<*> Served block blk_<*> to /<*>', Level='INFO', Pid='150', Time='203527'),\n",
       " Row(Component='dfs.DataNode$DataXceiver:', Content='10.250.14.224:50010 Served block blk_-1608999687919862906 to /10.251.31.5', Date='081109', EventId='0ec49ccc', EventTemplate='<*>:<*> Served block blk_<*> to /<*>', Level='INFO', Pid='150', Time='203527'),\n",
       " Row(Component='dfs.DataNode$DataXceiver:', Content='10.251.39.179:50010 Served block blk_-3544583377289625738 to /10.251.203.129', Date='081109', EventId='0ec49ccc', EventTemplate='<*>:<*> Served block blk_<*> to /<*>', Level='INFO', Pid='150', Time='203527'),\n",
       " Row(Component='dfs.DataNode$DataXceiver:', Content='10.250.10.6:50010 Served block blk_-1608999687919862906 to /10.251.125.193', Date='081109', EventId='0ec49ccc', EventTemplate='<*>:<*> Served block blk_<*> to /<*>', Level='INFO', Pid='151', Time='203527'),\n",
       " Row(Component='dfs.DataNode$DataXceiver:', Content='10.250.11.100:50010 Served block blk_-3544583377289625738 to /10.250.19.16', Date='081109', EventId='0ec49ccc', EventTemplate='<*>:<*> Served block blk_<*> to /<*>', Level='INFO', Pid='151', Time='203527'),\n",
       " Row(Component='dfs.DataNode$DataXceiver:', Content='10.250.14.224:50010 Served block blk_-1608999687919862906 to /10.251.30.134', Date='081109', EventId='0ec49ccc', EventTemplate='<*>:<*> Served block blk_<*> to /<*>', Level='INFO', Pid='151', Time='203527'),\n",
       " Row(Component='dfs.DataNode$DataXceiver:', Content='10.251.39.179:50010 Served block blk_-3544583377289625738 to /10.251.127.243', Date='081109', EventId='0ec49ccc', EventTemplate='<*>:<*> Served block blk_<*> to /<*>', Level='INFO', Pid='151', Time='203527'),\n",
       " Row(Component='dfs.DataNode$DataXceiver:', Content='10.250.10.6:50010 Served block blk_-1608999687919862906 to /10.251.65.203', Date='081109', EventId='0ec49ccc', EventTemplate='<*>:<*> Served block blk_<*> to /<*>', Level='INFO', Pid='152', Time='203527'),\n",
       " Row(Component='dfs.DataNode$DataXceiver:', Content='10.250.11.100:50010 Served block blk_-3544583377289625738 to /10.251.125.193', Date='081109', EventId='0ec49ccc', EventTemplate='<*>:<*> Served block blk_<*> to /<*>', Level='INFO', Pid='152', Time='203527'),\n",
       " Row(Component='dfs.DataNode$DataXceiver:', Content='10.250.14.224:50010 Served block blk_-1608999687919862906 to /10.251.127.191', Date='081109', EventId='0ec49ccc', EventTemplate='<*>:<*> Served block blk_<*> to /<*>', Level='INFO', Pid='152', Time='203527'),\n",
       " Row(Component='dfs.DataNode$DataXceiver:', Content='10.251.111.209:50010 Served block blk_-1608999687919862906 to /10.251.111.209', Date='081109', EventId='0ec49ccc', EventTemplate='<*>:<*> Served block blk_<*> to /<*>', Level='INFO', Pid='152', Time='203527'),\n",
       " Row(Component='dfs.DataNode$DataXceiver:', Content='10.251.197.226:50010 Served block blk_-3544583377289625738 to /10.251.127.191', Date='081109', EventId='0ec49ccc', EventTemplate='<*>:<*> Served block blk_<*> to /<*>', Level='INFO', Pid='152', Time='203527'),\n",
       " Row(Component='dfs.DataNode$DataXceiver:', Content='10.251.39.179:50010 Served block blk_-3544583377289625738 to /10.251.203.149', Date='081109', EventId='0ec49ccc', EventTemplate='<*>:<*> Served block blk_<*> to /<*>', Level='INFO', Pid='152', Time='203527'),\n",
       " Row(Component='dfs.DataNode$DataXceiver:', Content='10.250.11.100:50010 Served block blk_-3544583377289625738 to /10.251.30.179', Date='081109', EventId='0ec49ccc', EventTemplate='<*>:<*> Served block blk_<*> to /<*>', Level='INFO', Pid='153', Time='203527'),\n",
       " Row(Component='dfs.DataNode$DataXceiver:', Content='10.251.197.226:50010 Served block blk_-3544583377289625738 to /10.250.17.225', Date='081109', EventId='0ec49ccc', EventTemplate='<*>:<*> Served block blk_<*> to /<*>', Level='INFO', Pid='153', Time='203527'),\n",
       " Row(Component='dfs.DataNode$DataXceiver:', Content='10.251.215.16:50010 Served block blk_-1608999687919862906 to /10.251.215.16', Date='081109', EventId='0ec49ccc', EventTemplate='<*>:<*> Served block blk_<*> to /<*>', Level='INFO', Pid='153', Time='203527'),\n",
       " Row(Component='dfs.DataNode$DataXceiver:', Content='10.251.39.179:50010 Served block blk_-3544583377289625738 to /10.251.30.134', Date='081109', EventId='0ec49ccc', EventTemplate='<*>:<*> Served block blk_<*> to /<*>', Level='INFO', Pid='153', Time='203527'),\n",
       " Row(Component='dfs.DataNode$DataXceiver:', Content='10.250.11.100:50010 Served block blk_-3544583377289625738 to /10.251.74.192', Date='081109', EventId='0ec49ccc', EventTemplate='<*>:<*> Served block blk_<*> to /<*>', Level='INFO', Pid='154', Time='203527'),\n",
       " Row(Component='dfs.DataNode$DataXceiver:', Content='10.251.197.226:50010 Served block blk_-3544583377289625738 to /10.251.203.4', Date='081109', EventId='0ec49ccc', EventTemplate='<*>:<*> Served block blk_<*> to /<*>', Level='INFO', Pid='154', Time='203527'),\n",
       " Row(Component='dfs.DataNode$DataXceiver:', Content='10.251.215.16:50010 Served block blk_-1608999687919862906 to /10.250.19.227', Date='081109', EventId='0ec49ccc', EventTemplate='<*>:<*> Served block blk_<*> to /<*>', Level='INFO', Pid='154', Time='203527'),\n",
       " Row(Component='dfs.DataNode$DataXceiver:', Content='10.250.11.100:50010 Served block blk_-3544583377289625738 to /10.250.19.227', Date='081109', EventId='0ec49ccc', EventTemplate='<*>:<*> Served block blk_<*> to /<*>', Level='INFO', Pid='155', Time='203527'),\n",
       " Row(Component='dfs.DataNode$DataXceiver:', Content='10.251.197.226:50010 Served block blk_-3544583377289625738 to /10.251.215.16', Date='081109', EventId='0ec49ccc', EventTemplate='<*>:<*> Served block blk_<*> to /<*>', Level='INFO', Pid='155', Time='203527'),\n",
       " Row(Component='dfs.DataNode$DataXceiver:', Content='10.250.11.100:50010 Served block blk_-3544583377289625738 to /10.251.65.203', Date='081109', EventId='0ec49ccc', EventTemplate='<*>:<*> Served block blk_<*> to /<*>', Level='INFO', Pid='156', Time='203527'),\n",
       " Row(Component='dfs.DataNode$DataXceiver:', Content='10.251.197.226:50010 Served block blk_-3544583377289625738 to /10.250.17.177', Date='081109', EventId='0ec49ccc', EventTemplate='<*>:<*> Served block blk_<*> to /<*>', Level='INFO', Pid='156', Time='203527'),\n",
       " Row(Component='dfs.DataNode$DataXceiver:', Content='10.250.11.100:50010 Served block blk_-3544583377289625738 to /10.251.66.63', Date='081109', EventId='0ec49ccc', EventTemplate='<*>:<*> Served block blk_<*> to /<*>', Level='INFO', Pid='157', Time='203527'),\n",
       " Row(Component='dfs.DataNode$DataXceiver:', Content='10.251.197.226:50010 Served block blk_-3544583377289625738 to /10.251.201.204', Date='081109', EventId='0ec49ccc', EventTemplate='<*>:<*> Served block blk_<*> to /<*>', Level='INFO', Pid='157', Time='203527'),\n",
       " Row(Component='dfs.DataNode$DataXceiver:', Content='10.250.11.100:50010 Served block blk_-3544583377289625738 to /10.251.126.5', Date='081109', EventId='0ec49ccc', EventTemplate='<*>:<*> Served block blk_<*> to /<*>', Level='INFO', Pid='158', Time='203527'),\n",
       " Row(Component='dfs.DataNode$DataXceiver:', Content='10.251.197.226:50010 Served block blk_-3544583377289625738 to /10.251.126.83', Date='081109', EventId='0ec49ccc', EventTemplate='<*>:<*> Served block blk_<*> to /<*>', Level='INFO', Pid='158', Time='203527'),\n",
       " Row(Component='dfs.DataNode$DataXceiver:', Content='10.251.197.226:50010 Served block blk_-3544583377289625738 to /10.251.126.255', Date='081109', EventId='0ec49ccc', EventTemplate='<*>:<*> Served block blk_<*> to /<*>', Level='INFO', Pid='159', Time='203527'),\n",
       " Row(Component='dfs.DataNode$DataXceiver:', Content='10.251.197.226:50010 Served block blk_-3544583377289625738 to /10.251.125.237', Date='081109', EventId='0ec49ccc', EventTemplate='<*>:<*> Served block blk_<*> to /<*>', Level='INFO', Pid='160', Time='203527'),\n",
       " Row(Component='dfs.DataNode$DataXceiver:', Content='10.251.197.226:50010 Served block blk_-3544583377289625738 to /10.251.203.246', Date='081109', EventId='0ec49ccc', EventTemplate='<*>:<*> Served block blk_<*> to /<*>', Level='INFO', Pid='161', Time='203527'),\n",
       " Row(Component='dfs.DataNode$DataXceiver:', Content='10.251.197.226:50010 Served block blk_-3544583377289625738 to /10.251.111.209', Date='081109', EventId='0ec49ccc', EventTemplate='<*>:<*> Served block blk_<*> to /<*>', Level='INFO', Pid='162', Time='203527'),\n",
       " Row(Component='dfs.DataNode$DataXceiver:', Content='10.251.197.226:50010 Served block blk_-3544583377289625738 to /10.251.203.166', Date='081109', EventId='0ec49ccc', EventTemplate='<*>:<*> Served block blk_<*> to /<*>', Level='INFO', Pid='163', Time='203527'),\n",
       " Row(Component='dfs.DataNode$DataXceiver:', Content='10.251.197.226:50010 Served block blk_-3544583377289625738 to /10.251.31.160', Date='081109', EventId='0ec49ccc', EventTemplate='<*>:<*> Served block blk_<*> to /<*>', Level='INFO', Pid='164', Time='203527'),\n",
       " Row(Component='dfs.DataNode:', Content='10.251.107.19:50010 Starting thread to transfer block blk_-1608999687919862906 to 10.251.31.5:50010, 10.251.71.240:50010', Date='081109', EventId='0193e112', EventTemplate='<*>:<*> Starting thread to transfer block blk_<*> to <*>:<*>, <*>:<*>', Level='INFO', Pid='19', Time='203527'),\n",
       " Row(Component='dfs.FSNamesystem:', Content='BLOCK* ask 10.251.107.19:50010 to replicate blk_-1608999687919862906 to datanode(s) 10.251.31.5:50010 10.251.71.240:50010', Date='081109', EventId='6bcaef6a', EventTemplate='BLOCK* ask <*>:<*> to replicate blk_<*> to datanode(s) <*>:<*> <*>:<*>', Level='INFO', Pid='19', Time='203527'),\n",
       " Row(Component='dfs.DataNode$DataXceiver:', Content='Received block blk_-1608999687919862906 src: /10.251.31.5:53020 dest: /10.251.31.5:50010 of size 91178', Date='081109', EventId='1cb650a2', EventTemplate='Received block blk_<*> src: /<*>:<*> dest: /<*>:<*> of size <*>', Level='INFO', Pid='145', Time='203528'),\n",
       " Row(Component='dfs.DataNode$DataXceiver:', Content='10.251.74.79:50010 Served block blk_-1608999687919862906 to /10.251.127.243', Date='081109', EventId='0ec49ccc', EventTemplate='<*>:<*> Served block blk_<*> to /<*>', Level='INFO', Pid='148', Time='203528'),\n",
       " Row(Component='dfs.DataNode$DataXceiver:', Content='10.251.31.5:50010 Served block blk_-1608999687919862906 to /10.251.30.6', Date='081109', EventId='0ec49ccc', EventTemplate='<*>:<*> Served block blk_<*> to /<*>', Level='INFO', Pid='149', Time='203528'),\n",
       " Row(Component='dfs.DataNode$DataXceiver:', Content='10.251.74.79:50010 Served block blk_-1608999687919862906 to /10.250.19.16', Date='081109', EventId='0ec49ccc', EventTemplate='<*>:<*> Served block blk_<*> to /<*>', Level='INFO', Pid='149', Time='203528'),\n",
       " Row(Component='dfs.DataNode$DataXceiver:', Content='10.251.31.5:50010 Served block blk_-1608999687919862906 to /10.251.214.225', Date='081109', EventId='0ec49ccc', EventTemplate='<*>:<*> Served block blk_<*> to /<*>', Level='INFO', Pid='150', Time='203528'),\n",
       " Row(Component='dfs.DataNode$DataXceiver:', Content='10.251.74.79:50010 Served block blk_-1608999687919862906 to /10.251.74.192', Date='081109', EventId='0ec49ccc', EventTemplate='<*>:<*> Served block blk_<*> to /<*>', Level='INFO', Pid='150', Time='203528'),\n",
       " Row(Component='dfs.DataNode$DataXceiver:', Content='10.251.74.79:50010 Served block blk_-1608999687919862906 to /10.250.17.177', Date='081109', EventId='0ec49ccc', EventTemplate='<*>:<*> Served block blk_<*> to /<*>', Level='INFO', Pid='151', Time='203528'),\n",
       " Row(Component='dfs.DataNode$DataXceiver:', Content='10.251.31.5:50010 Served block blk_-1608999687919862906 to /10.251.71.16', Date='081109', EventId='0ec49ccc', EventTemplate='<*>:<*> Served block blk_<*> to /<*>', Level='INFO', Pid='152', Time='203528'),\n",
       " Row(Component='dfs.DataNode$DataXceiver:', Content='10.251.74.79:50010 Served block blk_-1608999687919862906 to /10.251.31.242', Date='081109', EventId='0ec49ccc', EventTemplate='<*>:<*> Served block blk_<*> to /<*>', Level='INFO', Pid='152', Time='203528'),\n",
       " Row(Component='dfs.DataNode$DataXceiver:', Content='10.250.10.6:50010 Served block blk_-1608999687919862906 to /10.250.17.225', Date='081109', EventId='0ec49ccc', EventTemplate='<*>:<*> Served block blk_<*> to /<*>', Level='INFO', Pid='153', Time='203528'),\n",
       " Row(Component='dfs.DataNode$DataXceiver:', Content='10.250.14.224:50010 Served block blk_-1608999687919862906 to /10.251.30.85', Date='081109', EventId='0ec49ccc', EventTemplate='<*>:<*> Served block blk_<*> to /<*>', Level='INFO', Pid='153', Time='203528'),\n",
       " Row(Component='dfs.DataNode$DataXceiver:', Content='10.251.111.209:50010 Served block blk_-1608999687919862906 to /10.251.66.63', Date='081109', EventId='0ec49ccc', EventTemplate='<*>:<*> Served block blk_<*> to /<*>', Level='INFO', Pid='153', Time='203528'),\n",
       " Row(Component='dfs.DataNode$DataXceiver:', Content='10.251.74.79:50010 Served block blk_-1608999687919862906 to /10.251.66.3', Date='081109', EventId='0ec49ccc', EventTemplate='<*>:<*> Served block blk_<*> to /<*>', Level='INFO', Pid='153', Time='203528'),\n",
       " Row(Component='dfs.DataNode$DataXceiver:', Content='10.250.10.6:50010 Served block blk_-1608999687919862906 to /10.251.126.227', Date='081109', EventId='0ec49ccc', EventTemplate='<*>:<*> Served block blk_<*> to /<*>', Level='INFO', Pid='154', Time='203528'),\n",
       " Row(Component='dfs.DataNode$DataXceiver:', Content='10.251.39.179:50010 Served block blk_-3544583377289625738 to /10.251.42.16', Date='081109', EventId='0ec49ccc', EventTemplate='<*>:<*> Served block blk_<*> to /<*>', Level='INFO', Pid='154', Time='203528'),\n",
       " Row(Component='dfs.DataNode$DataXceiver:', Content='10.251.215.16:50010 Served block blk_-1608999687919862906 to /10.251.126.5', Date='081109', EventId='0ec49ccc', EventTemplate='<*>:<*> Served block blk_<*> to /<*>', Level='INFO', Pid='155', Time='203528'),\n",
       " Row(Component='dfs.DataNode$DataXceiver:', Content='10.251.39.179:50010 Served block blk_-3544583377289625738 to /10.251.126.227', Date='081109', EventId='0ec49ccc', EventTemplate='<*>:<*> Served block blk_<*> to /<*>', Level='INFO', Pid='155', Time='203528'),\n",
       " Row(Component='dfs.DataNode$DataXceiver:', Content='10.251.74.79:50010 Served block blk_-1608999687919862906 to /10.251.43.115', Date='081109', EventId='0ec49ccc', EventTemplate='<*>:<*> Served block blk_<*> to /<*>', Level='INFO', Pid='155', Time='203528'),\n",
       " Row(Component='dfs.DataNode$DataXceiver:', Content='10.251.39.179:50010 Served block blk_-3544583377289625738 to /10.251.31.242', Date='081109', EventId='0ec49ccc', EventTemplate='<*>:<*> Served block blk_<*> to /<*>', Level='INFO', Pid='156', Time='203528'),\n",
       " Row(Component='dfs.DataNode$DataXceiver:', Content='10.251.39.179:50010 Served block blk_-3544583377289625738 to /10.251.42.84', Date='081109', EventId='0ec49ccc', EventTemplate='<*>:<*> Served block blk_<*> to /<*>', Level='INFO', Pid='158', Time='203528'),\n",
       " Row(Component='dfs.DataNode$DataXceiver:', Content='10.250.11.100:50010 Served block blk_-3544583377289625738 to /10.251.30.101', Date='081109', EventId='0ec49ccc', EventTemplate='<*>:<*> Served block blk_<*> to /<*>', Level='INFO', Pid='159', Time='203528'),\n",
       " Row(Component='dfs.DataNode$DataXceiver:', Content='10.251.39.179:50010 Served block blk_-3544583377289625738 to /10.251.43.115', Date='081109', EventId='0ec49ccc', EventTemplate='<*>:<*> Served block blk_<*> to /<*>', Level='INFO', Pid='159', Time='203528'),\n",
       " Row(Component='dfs.DataNode$DataXceiver:', Content='10.250.11.100:50010 Served block blk_-3544583377289625738 to /10.251.31.85', Date='081109', EventId='0ec49ccc', EventTemplate='<*>:<*> Served block blk_<*> to /<*>', Level='INFO', Pid='160', Time='203528'),\n",
       " Row(Component='dfs.DataNode$DataXceiver:', Content='10.250.11.100:50010 Served block blk_-3544583377289625738 to /10.251.30.6', Date='081109', EventId='0ec49ccc', EventTemplate='<*>:<*> Served block blk_<*> to /<*>', Level='INFO', Pid='161', Time='203528'),\n",
       " Row(Component='dfs.DataNode$DataXceiver:', Content='10.250.11.100:50010 Served block blk_-3544583377289625738 to /10.251.214.225', Date='081109', EventId='0ec49ccc', EventTemplate='<*>:<*> Served block blk_<*> to /<*>', Level='INFO', Pid='162', Time='203528'),\n",
       " Row(Component='dfs.DataNode$DataXceiver:', Content='10.250.11.100:50010 Served block blk_-3544583377289625738 to /10.251.66.3', Date='081109', EventId='0ec49ccc', EventTemplate='<*>:<*> Served block blk_<*> to /<*>', Level='INFO', Pid='163', Time='203528'),\n",
       " Row(Component='dfs.DataNode$DataXceiver:', Content='10.250.11.100:50010 Served block blk_-3544583377289625738 to /10.251.125.174', Date='081109', EventId='0ec49ccc', EventTemplate='<*>:<*> Served block blk_<*> to /<*>', Level='INFO', Pid='164', Time='203528'),\n",
       " Row(Component='dfs.DataNode$DataXceiver:', Content='10.250.11.100:50010 Served block blk_-3544583377289625738 to /10.251.71.16', Date='081109', EventId='0ec49ccc', EventTemplate='<*>:<*> Served block blk_<*> to /<*>', Level='INFO', Pid='165', Time='203528'),\n",
       " Row(Component='dfs.DataNode$DataXceiver:', Content='10.251.197.226:50010 Served block blk_-3544583377289625738 to /10.251.202.181', Date='081109', EventId='0ec49ccc', EventTemplate='<*>:<*> Served block blk_<*> to /<*>', Level='INFO', Pid='165', Time='203528'),\n",
       " Row(Component='dfs.DataNode$DataXceiver:', Content='10.250.11.100:50010 Served block blk_-3544583377289625738 to /10.251.31.180', Date='081109', EventId='0ec49ccc', EventTemplate='<*>:<*> Served block blk_<*> to /<*>', Level='INFO', Pid='166', Time='203528'),\n",
       " Row(Component='dfs.DataNode$DataXceiver:', Content='10.251.197.226:50010 Served block blk_-3544583377289625738 to /10.251.67.113', Date='081109', EventId='0ec49ccc', EventTemplate='<*>:<*> Served block blk_<*> to /<*>', Level='INFO', Pid='166', Time='203528'),\n",
       " Row(Component='dfs.DataNode$DataXceiver:', Content='10.250.11.100:50010 Served block blk_-3544583377289625738 to /10.251.215.192', Date='081109', EventId='0ec49ccc', EventTemplate='<*>:<*> Served block blk_<*> to /<*>', Level='INFO', Pid='167', Time='203528'),\n",
       " Row(Component='dfs.DataNode$DataXceiver:', Content='10.251.197.226:50010 Served block blk_-3544583377289625738 to /10.251.43.210', Date='081109', EventId='0ec49ccc', EventTemplate='<*>:<*> Served block blk_<*> to /<*>', Level='INFO', Pid='167', Time='203528'),\n",
       " Row(Component='dfs.DataNode$DataXceiver:', Content='10.250.11.100:50010 Served block blk_-3544583377289625738 to /10.251.66.192', Date='081109', EventId='0ec49ccc', EventTemplate='<*>:<*> Served block blk_<*> to /<*>', Level='INFO', Pid='168', Time='203528'),\n",
       " Row(Component='dfs.DataNode$DataXceiver:', Content='10.251.197.226:50010 Served block blk_-3544583377289625738 to /10.251.215.70', Date='081109', EventId='0ec49ccc', EventTemplate='<*>:<*> Served block blk_<*> to /<*>', Level='INFO', Pid='168', Time='203528'),\n",
       " Row(Component='dfs.DataNode$DataXceiver:', Content='10.251.197.226:50010 Served block blk_-3544583377289625738 to /10.251.67.211', Date='081109', EventId='0ec49ccc', EventTemplate='<*>:<*> Served block blk_<*> to /<*>', Level='INFO', Pid='169', Time='203528'),\n",
       " Row(Component='dfs.DataNode$DataXceiver:', Content='10.251.197.226:50010 Served block blk_-3544583377289625738 to /10.251.66.102', Date='081109', EventId='0ec49ccc', EventTemplate='<*>:<*> Served block blk_<*> to /<*>', Level='INFO', Pid='170', Time='203528'),\n",
       " Row(Component='dfs.DataNode$DataXceiver:', Content='10.251.197.226:50010 Served block blk_-3544583377289625738 to /10.251.43.147', Date='081109', EventId='0ec49ccc', EventTemplate='<*>:<*> Served block blk_<*> to /<*>', Level='INFO', Pid='171', Time='203528'),\n",
       " Row(Component='dfs.FSNamesystem:', Content='BLOCK* NameSystem.addStoredBlock: blockMap updated: 10.251.31.5:50010 is added to blk_-1608999687919862906 size 91178', Date='081109', EventId='1defe93d', EventTemplate='BLOCK* NameSystem<*>addStoredBlock: blockMap updated: <*>:<*> is added to blk_<*> size <*>', Level='INFO', Pid='33', Time='203528'),\n",
       " Row(Component='dfs.FSNamesystem:', Content='BLOCK* NameSystem.addStoredBlock: blockMap updated: 10.251.71.240:50010 is added to blk_-1608999687919862906 size 91178', Date='081109', EventId='1defe93d', EventTemplate='BLOCK* NameSystem<*>addStoredBlock: blockMap updated: <*>:<*> is added to blk_<*> size <*>', Level='INFO', Pid='33', Time='203528'),\n",
       " Row(Component='dfs.DataNode$DataXceiver:', Content='Receiving block blk_7854771516489510256 src: /10.251.215.16:53860 dest: /10.251.215.16:50010', Date='081109', EventId='2ea739e7', EventTemplate='Receiving block blk_<*> src: /<*>:<*> dest: /<*>:<*>', Level='INFO', Pid='148', Time='203529'),\n",
       " Row(Component='dfs.DataNode$DataXceiver:', Content='10.251.31.5:50010 Served block blk_-1608999687919862906 to /10.251.31.180', Date='081109', EventId='0ec49ccc', EventTemplate='<*>:<*> Served block blk_<*> to /<*>', Level='INFO', Pid='153', Time='203529'),\n",
       " Row(Component='dfs.DataNode$DataXceiver:', Content='10.250.14.224:50010 Served block blk_-1608999687919862906 to /10.251.67.113', Date='081109', EventId='0ec49ccc', EventTemplate='<*>:<*> Served block blk_<*> to /<*>', Level='INFO', Pid='154', Time='203529'),\n",
       " Row(Component='dfs.DataNode$DataXceiver:', Content='10.251.111.209:50010 Served block blk_-1608999687919862906 to /10.251.215.192', Date='081109', EventId='0ec49ccc', EventTemplate='<*>:<*> Served block blk_<*> to /<*>', Level='INFO', Pid='154', Time='203529'),\n",
       " Row(Component='dfs.DataNode$DataXceiver:', Content='10.251.31.5:50010 Served block blk_-1608999687919862906 to /10.251.31.160', Date='081109', EventId='0ec49ccc', EventTemplate='<*>:<*> Served block blk_<*> to /<*>', Level='INFO', Pid='154', Time='203529'),\n",
       " Row(Component='dfs.DataNode$DataXceiver:', Content='10.250.10.6:50010 Served block blk_-1608999687919862906 to /10.251.67.225', Date='081109', EventId='0ec49ccc', EventTemplate='<*>:<*> Served block blk_<*> to /<*>', Level='INFO', Pid='155', Time='203529'),\n",
       " Row(Component='dfs.DataNode$DataXceiver:', Content='10.250.14.224:50010 Served block blk_-1608999687919862906 to /10.251.42.9', Date='081109', EventId='0ec49ccc', EventTemplate='<*>:<*> Served block blk_<*> to /<*>', Level='INFO', Pid='155', Time='203529'),\n",
       " Row(Component='dfs.DataNode$DataXceiver:', Content='10.251.111.209:50010 Served block blk_-1608999687919862906 to /10.251.66.192', Date='081109', EventId='0ec49ccc', EventTemplate='<*>:<*> Served block blk_<*> to /<*>', Level='INFO', Pid='155', Time='203529'),\n",
       " Row(Component='dfs.DataNode$DataXceiver:', Content='10.251.31.5:50010 Served block blk_-1608999687919862906 to /10.251.43.147', Date='081109', EventId='0ec49ccc', EventTemplate='<*>:<*> Served block blk_<*> to /<*>', Level='INFO', Pid='155', Time='203529'),\n",
       " Row(Component='dfs.DataNode$DataXceiver:', Content='10.251.111.209:50010 Served block blk_-1608999687919862906 to /10.251.65.237', Date='081109', EventId='0ec49ccc', EventTemplate='<*>:<*> Served block blk_<*> to /<*>', Level='INFO', Pid='156', Time='203529'),\n",
       " Row(Component='dfs.DataNode$DataXceiver:', Content='10.251.74.79:50010 Served block blk_-1608999687919862906 to /10.251.199.225', Date='081109', EventId='0ec49ccc', EventTemplate='<*>:<*> Served block blk_<*> to /<*>', Level='INFO', Pid='156', Time='203529'),\n",
       " Row(Component='dfs.DataNode$DataXceiver:', Content='10.250.10.6:50010 Served block blk_-1608999687919862906 to /10.251.214.18', Date='081109', EventId='0ec49ccc', EventTemplate='<*>:<*> Served block blk_<*> to /<*>', Level='INFO', Pid='157', Time='203529'),\n",
       " Row(Component='dfs.DataNode$DataXceiver:', Content='10.251.111.209:50010 Served block blk_-1608999687919862906 to /10.251.201.204', Date='081109', EventId='0ec49ccc', EventTemplate='<*>:<*> Served block blk_<*> to /<*>', Level='INFO', Pid='157', Time='203529'),\n",
       " Row(Component='dfs.DataNode$DataXceiver:', Content='10.251.215.16:50010 Served block blk_-1608999687919862906 to /10.251.75.49', Date='081109', EventId='0ec49ccc', EventTemplate='<*>:<*> Served block blk_<*> to /<*>', Level='INFO', Pid='157', Time='203529'),\n",
       " Row(Component='dfs.DataNode$DataXceiver:', Content='10.251.74.79:50010 Served block blk_-1608999687919862906 to /10.251.203.246', Date='081109', EventId='0ec49ccc', EventTemplate='<*>:<*> Served block blk_<*> to /<*>', Level='INFO', Pid='157', Time='203529'),\n",
       " Row(Component='dfs.DataNode$DataXceiver:', Content='10.250.10.6:50010 Served block blk_-1608999687919862906 to /10.251.67.211', Date='081109', EventId='0ec49ccc', EventTemplate='<*>:<*> Served block blk_<*> to /<*>', Level='INFO', Pid='158', Time='203529'),\n",
       " Row(Component='dfs.DataNode$DataXceiver:', Content='10.251.111.209:50010 Served block blk_-1608999687919862906 to /10.251.75.163', Date='081109', EventId='0ec49ccc', EventTemplate='<*>:<*> Served block blk_<*> to /<*>', Level='INFO', Pid='158', Time='203529'),\n",
       " Row(Component='dfs.DataNode$DataXceiver:', Content='10.251.74.79:50010 Served block blk_-1608999687919862906 to /10.251.74.227', Date='081109', EventId='0ec49ccc', EventTemplate='<*>:<*> Served block blk_<*> to /<*>', Level='INFO', Pid='158', Time='203529'),\n",
       " Row(Component='dfs.DataNode$DataXceiver:', Content='Receiving block blk_7854771516489510256 src: /10.251.215.16:50963 dest: /10.251.215.16:50010', Date='081109', EventId='2ea739e7', EventTemplate='Receiving block blk_<*> src: /<*>:<*> dest: /<*>:<*>', Level='INFO', Pid='158', Time='203529'),\n",
       " Row(Component='dfs.DataNode$DataXceiver:', Content='10.250.10.6:50010 Served block blk_-1608999687919862906 to /10.251.194.245', Date='081109', EventId='0ec49ccc', EventTemplate='<*>:<*> Served block blk_<*> to /<*>', Level='INFO', Pid='159', Time='203529'),\n",
       " Row(Component='dfs.DataNode$DataXceiver:', Content='10.251.111.209:50010 Served block blk_-1608999687919862906 to /10.251.203.166', Date='081109', EventId='0ec49ccc', EventTemplate='<*>:<*> Served block blk_<*> to /<*>', Level='INFO', Pid='159', Time='203529'),\n",
       " Row(Component='dfs.DataNode$DataXceiver:', Content='10.251.215.16:50010 Served block blk_-1608999687919862906 to /10.251.73.220', Date='081109', EventId='0ec49ccc', EventTemplate='<*>:<*> Served block blk_<*> to /<*>', Level='INFO', Pid='159', Time='203529'),\n",
       " Row(Component='dfs.DataNode$DataXceiver:', Content='10.251.74.79:50010 Served block blk_-1608999687919862906 to /10.251.195.33', Date='081109', EventId='0ec49ccc', EventTemplate='<*>:<*> Served block blk_<*> to /<*>', Level='INFO', Pid='159', Time='203529'),\n",
       " Row(Component='dfs.DataNode$DataXceiver:', Content='10.251.39.179:50010 Served block blk_-3544583377289625738 to /10.251.67.225', Date='081109', EventId='0ec49ccc', EventTemplate='<*>:<*> Served block blk_<*> to /<*>', Level='INFO', Pid='160', Time='203529'),\n",
       " Row(Component='dfs.DataNode$DataXceiver:', Content='10.251.39.179:50010 Served block blk_-3544583377289625738 to /10.251.42.246', Date='081109', EventId='0ec49ccc', EventTemplate='<*>:<*> Served block blk_<*> to /<*>', Level='INFO', Pid='161', Time='203529'),\n",
       " Row(Component='dfs.DataNode$DataXceiver:', Content='10.251.39.179:50010 Served block blk_-3544583377289625738 to /10.251.75.228', Date='081109', EventId='0ec49ccc', EventTemplate='<*>:<*> Served block blk_<*> to /<*>', Level='INFO', Pid='162', Time='203529'),\n",
       " Row(Component='dfs.DataNode$DataXceiver:', Content='10.251.39.179:50010 Served block blk_-3544583377289625738 to /10.251.195.33', Date='081109', EventId='0ec49ccc', EventTemplate='<*>:<*> Served block blk_<*> to /<*>', Level='INFO', Pid='163', Time='203529'),\n",
       " Row(Component='dfs.DataNode$DataXceiver:', Content='10.251.39.179:50010 Served block blk_-3544583377289625738 to /10.251.194.245', Date='081109', EventId='0ec49ccc', EventTemplate='<*>:<*> Served block blk_<*> to /<*>', Level='INFO', Pid='164', Time='203529'),\n",
       " Row(Component='dfs.DataNode$DataXceiver:', Content='10.251.39.179:50010 Served block blk_-3544583377289625738 to /10.251.42.207', Date='081109', EventId='0ec49ccc', EventTemplate='<*>:<*> Served block blk_<*> to /<*>', Level='INFO', Pid='165', Time='203529'),\n",
       " Row(Component='dfs.DataNode$DataXceiver:', Content='10.251.39.179:50010 Served block blk_-3544583377289625738 to /10.251.111.130', Date='081109', EventId='0ec49ccc', EventTemplate='<*>:<*> Served block blk_<*> to /<*>', Level='INFO', Pid='166', Time='203529'),\n",
       " Row(Component='dfs.DataNode$DataXceiver:', Content='10.250.11.100:50010 Served block blk_-3544583377289625738 to /10.251.65.237', Date='081109', EventId='0ec49ccc', EventTemplate='<*>:<*> Served block blk_<*> to /<*>', Level='INFO', Pid='169', Time='203529'),\n",
       " Row(Component='dfs.DataNode$DataXceiver:', Content='10.250.11.100:50010 Served block blk_-3544583377289625738 to /10.251.42.9', Date='081109', EventId='0ec49ccc', EventTemplate='<*>:<*> Served block blk_<*> to /<*>', Level='INFO', Pid='170', Time='203529'),\n",
       " Row(Component='dfs.DataNode$DataXceiver:', Content='10.250.11.100:50010 Served block blk_-3544583377289625738 to /10.251.74.227', Date='081109', EventId='0ec49ccc', EventTemplate='<*>:<*> Served block blk_<*> to /<*>', Level='INFO', Pid='171', Time='203529'),\n",
       " Row(Component='dfs.DataNode$DataXceiver:', Content='10.250.11.100:50010 Served block blk_-3544583377289625738 to /10.251.75.49', Date='081109', EventId='0ec49ccc', EventTemplate='<*>:<*> Served block blk_<*> to /<*>', Level='INFO', Pid='172', Time='203529'),\n",
       " Row(Component='dfs.DataNode$DataXceiver:', Content='10.251.197.226:50010 Served block blk_-3544583377289625738 to /10.251.67.4', Date='081109', EventId='0ec49ccc', EventTemplate='<*>:<*> Served block blk_<*> to /<*>', Level='INFO', Pid='172', Time='203529'),\n",
       " Row(Component='dfs.DataNode$DataXceiver:', Content='10.250.11.100:50010 Served block blk_-3544583377289625738 to /10.251.214.18', Date='081109', EventId='0ec49ccc', EventTemplate='<*>:<*> Served block blk_<*> to /<*>', Level='INFO', Pid='173', Time='203529'),\n",
       " Row(Component='dfs.DataNode$DataXceiver:', Content='10.251.197.226:50010 Served block blk_-3544583377289625738 to /10.251.42.191', Date='081109', EventId='0ec49ccc', EventTemplate='<*>:<*> Served block blk_<*> to /<*>', Level='INFO', Pid='174', Time='203529'),\n",
       " Row(Component='dfs.DataNode$DataXceiver:', Content='10.250.11.100:50010 Served block blk_-3544583377289625738 to /10.251.75.163', Date='081109', EventId='0ec49ccc', EventTemplate='<*>:<*> Served block blk_<*> to /<*>', Level='INFO', Pid='175', Time='203529'),\n",
       " Row(Component='dfs.DataNode$DataXceiver:', Content='10.251.197.226:50010 Served block blk_-3544583377289625738 to /10.251.75.143', Date='081109', EventId='0ec49ccc', EventTemplate='<*>:<*> Served block blk_<*> to /<*>', Level='INFO', Pid='175', Time='203529'),\n",
       " Row(Component='dfs.DataNode$DataXceiver:', Content='10.250.11.100:50010 Served block blk_-3544583377289625738 to /10.251.73.220', Date='081109', EventId='0ec49ccc', EventTemplate='<*>:<*> Served block blk_<*> to /<*>', Level='INFO', Pid='176', Time='203529'),\n",
       " Row(Component='dfs.DataNode$DataXceiver:', Content='10.251.197.226:50010 Served block blk_-3544583377289625738 to /10.251.214.32', Date='081109', EventId='0ec49ccc', EventTemplate='<*>:<*> Served block blk_<*> to /<*>', Level='INFO', Pid='176', Time='203529'),\n",
       " Row(Component='dfs.DataNode$DataXceiver:', Content='10.250.11.100:50010 Served block blk_-3544583377289625738 to /10.251.214.130', Date='081109', EventId='0ec49ccc', EventTemplate='<*>:<*> Served block blk_<*> to /<*>', Level='INFO', Pid='177', Time='203529')]"
      ]
     },
     "execution_count": 178,
     "metadata": {},
     "output_type": "execute_result"
    }
   ],
   "source": [
    "orkuh"
   ]
  },
  {
   "cell_type": "code",
   "execution_count": 179,
   "metadata": {},
   "outputs": [
    {
     "data": {
      "text/plain": [
       "'BLOCK* NameSystem.allocateBlock: /mnt/hadoop/mapred/system/job_200811092030_0001/job.jar. blk_-1608999687919862906'"
      ]
     },
     "execution_count": 179,
     "metadata": {},
     "output_type": "execute_result"
    }
   ],
   "source": [
    "orkuh[1][1]"
   ]
  },
  {
   "cell_type": "code",
   "execution_count": 180,
   "metadata": {},
   "outputs": [],
   "source": [
    "# output = []\n",
    "# for x in orkuh[]:\n",
    "#     if x not in output:\n",
    "#         output.append(x)\n",
    "# print (output)"
   ]
  },
  {
   "cell_type": "code",
   "execution_count": null,
   "metadata": {},
   "outputs": [],
   "source": []
  },
  {
   "cell_type": "code",
   "execution_count": null,
   "metadata": {},
   "outputs": [],
   "source": []
  },
  {
   "cell_type": "code",
   "execution_count": 181,
   "metadata": {},
   "outputs": [],
   "source": [
    "customSchema = StructType([\n",
    "    StructField(\"Date\", StringType(), True),\n",
    "    StructField(\"Time\", StringType(), True),\n",
    "    StructField(\"Pid\", StringType(), True),\n",
    "    StructField(\"Pid\", StringType(), True),\n",
    "    StructField(\"Component\", StringType(), True),\n",
    "    StructField(\"Content\", StringType(), True),\n",
    "    StructField(\"EventTemplate\", StringType(), True),\n",
    "    StructField(\"EventId\", StringType(), True)\n",
    "    \n",
    "])"
   ]
  },
  {
   "cell_type": "code",
   "execution_count": 182,
   "metadata": {},
   "outputs": [],
   "source": [
    "df_train = spark.createDataFrame(orkuh,schema = customSchema)"
   ]
  },
  {
   "cell_type": "code",
   "execution_count": 183,
   "metadata": {},
   "outputs": [
    {
     "name": "stdout",
     "output_type": "stream",
     "text": [
      "+------+------+---+---+--------------------+--------------------+--------------------+--------+\n",
      "|  Date|  Time|Pid|Pid|           Component|             Content|       EventTemplate| EventId|\n",
      "+------+------+---+---+--------------------+--------------------+--------------------+--------+\n",
      "|081109|203518|143|143|dfs.DataNode$Data...|Receiving block b...|Receiving block b...|2ea739e7|\n",
      "|081109|203518| 35| 35|   dfs.FSNamesystem:|BLOCK* NameSystem...|BLOCK* NameSystem...|8b9dee11|\n",
      "|081109|203519|143|143|dfs.DataNode$Data...|Receiving block b...|Receiving block b...|2ea739e7|\n",
      "|081109|203519|145|145|dfs.DataNode$Data...|Receiving block b...|Receiving block b...|2ea739e7|\n",
      "|081109|203519|145|145|dfs.DataNode$Pack...|PacketResponder 1...|PacketResponder <...|fd96e398|\n",
      "+------+------+---+---+--------------------+--------------------+--------------------+--------+\n",
      "only showing top 5 rows\n",
      "\n"
     ]
    }
   ],
   "source": [
    "df_train.show(5)"
   ]
  },
  {
   "cell_type": "code",
   "execution_count": 184,
   "metadata": {},
   "outputs": [
    {
     "data": {
      "text/plain": [
       "array(['2ea739e7', '8b9dee11', 'fd96e398', 'a7fb7c2e', '1defe93d',\n",
       "       '66a23a40', '1cb650a2', '6c9db9d3', '0193e112', '6bcaef6a',\n",
       "       '62adf7b3', '0ec49ccc', '159ab19e'], dtype=object)"
      ]
     },
     "execution_count": 184,
     "metadata": {},
     "output_type": "execute_result"
    }
   ],
   "source": [
    "df_train.toPandas()['EventId'].unique()"
   ]
  },
  {
   "cell_type": "code",
   "execution_count": 185,
   "metadata": {},
   "outputs": [],
   "source": [
    "# def append_event(read_df):\n",
    "    \n",
    "#     for i in len(df_train):\n",
    "#         orkuch[i]['EventTemplate'] = re.sub(\"[\\d.-]+\", \"<*>\", orkuh[i][1])\n",
    "        \n",
    "        "
   ]
  },
  {
   "cell_type": "code",
   "execution_count": 186,
   "metadata": {},
   "outputs": [],
   "source": [
    "# s = \"BLOCK* NameSystem.addStoredBlock: blockMap updated: 10.251.73.220:50010 is added to blk_7128370237687728475 size 67108864\"\n",
    "# s = re.sub(\"[\\d.-]+\", \"<*>\", s)\n",
    "# print(s)"
   ]
  },
  {
   "cell_type": "code",
   "execution_count": 187,
   "metadata": {},
   "outputs": [],
   "source": [
    "# content = \"Receiving block blk_-1608999687919862906 src: /10.250.19.102:54106 dest: /10.250.19.102:50010\"\n"
   ]
  },
  {
   "cell_type": "code",
   "execution_count": 188,
   "metadata": {},
   "outputs": [],
   "source": [
    "#  def generate_logformat_regex(logformat):\n",
    "#     ''' \n",
    "#     Function to generate regular expression to split log messages\n",
    "#     '''\n",
    "#     headers = []\n",
    "#     splitters = re.split(r'(<[^<>]+>)', logformat)\n",
    "#     regex = ''\n",
    "#     for k in range(len(splitters)):\n",
    "#         if k % 2 == 0:\n",
    "#             splitter = re.sub(' +', '\\s+', splitters[k])\n",
    "#             regex += splitter\n",
    "#         else:\n",
    "#             header = splitters[k].strip('<').strip('>')\n",
    "#             regex += '(?P<%s>.*?)' % header\n",
    "#             headers.append(header)\n",
    "#     regex = re.compile('^' + regex + '$')\n",
    "#     return headers, regex"
   ]
  },
  {
   "cell_type": "code",
   "execution_count": 189,
   "metadata": {},
   "outputs": [],
   "source": [
    "# names = df_train.schema.Content\n"
   ]
  },
  {
   "cell_type": "code",
   "execution_count": null,
   "metadata": {},
   "outputs": [],
   "source": []
  },
  {
   "cell_type": "code",
   "execution_count": 190,
   "metadata": {},
   "outputs": [],
   "source": [
    "# rex = r'blk_-?\\d+', r'(\\d+\\.){3}\\d+(:\\d+)?' \n",
    "# lil = re.sub(rex,'<*>', content)\n"
   ]
  },
  {
   "cell_type": "code",
   "execution_count": null,
   "metadata": {},
   "outputs": [],
   "source": []
  },
  {
   "cell_type": "code",
   "execution_count": 191,
   "metadata": {},
   "outputs": [],
   "source": [
    "# generate_logformat_regex(content)"
   ]
  },
  {
   "cell_type": "code",
   "execution_count": null,
   "metadata": {},
   "outputs": [],
   "source": []
  },
  {
   "cell_type": "code",
   "execution_count": 192,
   "metadata": {},
   "outputs": [],
   "source": [
    " def read_file(data):\n",
    "    #struct_log = spark.read.format(\"csv\").option(\"header\", \"true\").load(file)\n",
    "    data_dict = OrderedDict()\n",
    "    for row in data.collect():  \n",
    "        blkId_list = re.findall(r'(blk_-?\\d+)', row['Content'])\n",
    "        blkId_set = set(blkId_list)\n",
    "        for blk_Id in blkId_set:\n",
    "            if not blk_Id in data_dict:\n",
    "                data_dict[blk_Id] = []\n",
    "            data_dict[blk_Id].append(row['EventId'])\n",
    "    data_df = spark.createDataFrame(list(data_dict.items()), schema=['BlockId', 'EventSequence'])\n",
    "    \n",
    "    return data_df"
   ]
  },
  {
   "cell_type": "markdown",
   "metadata": {},
   "source": [
    "LineId,Date,Time,Pid,Level,Component,Content,EventId,EventTemplate\n"
   ]
  },
  {
   "cell_type": "code",
   "execution_count": 193,
   "metadata": {},
   "outputs": [],
   "source": [
    "df_train_append = read_file(df_train)"
   ]
  },
  {
   "cell_type": "code",
   "execution_count": 194,
   "metadata": {},
   "outputs": [
    {
     "name": "stdout",
     "output_type": "stream",
     "text": [
      "+--------------------+--------------------+\n",
      "|             BlockId|       EventSequence|\n",
      "+--------------------+--------------------+\n",
      "|blk_-160899968791...|[2ea739e7, 8b9dee...|\n",
      "|blk_7503483334202...|[2ea739e7, 2ea739...|\n",
      "|blk_-354458337728...|[2ea739e7, 62adf7...|\n",
      "|blk_-907399258668...|[2ea739e7, 159ab1...|\n",
      "|blk_7854771516489...|[2ea739e7, 2ea739e7]|\n",
      "+--------------------+--------------------+\n",
      "\n"
     ]
    }
   ],
   "source": [
    "df_train_append.show(10)"
   ]
  },
  {
   "cell_type": "code",
   "execution_count": null,
   "metadata": {},
   "outputs": [],
   "source": [
    "# abc_log = spark.read.format(\"csv\").option(\"header\", \"false\").schema(customSchema).load(\"log.csv\")\n"
   ]
  },
  {
   "cell_type": "code",
   "execution_count": null,
   "metadata": {},
   "outputs": [],
   "source": [
    "# abc_log.show(5)"
   ]
  },
  {
   "cell_type": "code",
   "execution_count": null,
   "metadata": {},
   "outputs": [],
   "source": [
    "# ab = read_file(\"log.csv\")"
   ]
  },
  {
   "cell_type": "code",
   "execution_count": null,
   "metadata": {},
   "outputs": [],
   "source": [
    "# type(ab)"
   ]
  },
  {
   "cell_type": "code",
   "execution_count": null,
   "metadata": {},
   "outputs": [],
   "source": [
    "# ab.head(10)"
   ]
  },
  {
   "cell_type": "code",
   "execution_count": null,
   "metadata": {},
   "outputs": [],
   "source": [
    "schema "
   ]
  },
  {
   "cell_type": "code",
   "execution_count": null,
   "metadata": {},
   "outputs": [],
   "source": [
    "ab = read_file(\"log.csv\")"
   ]
  },
  {
   "cell_type": "code",
   "execution_count": null,
   "metadata": {},
   "outputs": [],
   "source": [
    "type(ab)"
   ]
  },
  {
   "cell_type": "code",
   "execution_count": null,
   "metadata": {},
   "outputs": [],
   "source": [
    "ab.show(10)"
   ]
  },
  {
   "cell_type": "code",
   "execution_count": null,
   "metadata": {},
   "outputs": [],
   "source": [
    "label_csv = spark.read.format(\"csv\").option(\"header\", \"true\").load(\"anomaly_label.csv\")\n"
   ]
  },
  {
   "cell_type": "code",
   "execution_count": null,
   "metadata": {},
   "outputs": [],
   "source": [
    "label_csv.show(10)"
   ]
  },
  {
   "cell_type": "code",
   "execution_count": null,
   "metadata": {},
   "outputs": [],
   "source": [
    "# label_data = label_csv.set_index('BlockId')\n",
    "# label_dict = label_data['Label'].to_dict()\n"
   ]
  },
  {
   "cell_type": "code",
   "execution_count": null,
   "metadata": {},
   "outputs": [],
   "source": [
    "# ab['Label'] = ab[ab['BlockId']].apply(lambda x: 1 if x == 'Anomaly' else 0)\n"
   ]
  },
  {
   "cell_type": "code",
   "execution_count": null,
   "metadata": {},
   "outputs": [],
   "source": [
    "# (x_train, y_train), (x_test, y_test) = _split_data(data_df['EventSequence'].values, data_df['Label'].values, train_ratio, split_type)"
   ]
  },
  {
   "cell_type": "code",
   "execution_count": null,
   "metadata": {},
   "outputs": [],
   "source": [
    "# label_data = pd.read_csv(\"anomaly_label.csv\", engine='c', na_filter=False, memory_map=True)\n",
    "# label_data = label_data.set_index('BlockId')\n",
    "# label_dict = label_data['Label'].to_dict()\n",
    "# ab.select[ab['BlockId'].rdd.flatmap(lambda x: 1 if label_dict[x] == 'Anomaly' else 0).toDF()\n",
    "# # df.select(\"_c0\").rdd.flatMap(lambda x: x + (\"anything\", )).toDF()\n",
    "\n",
    "\n",
    "# # # Split trgiain and test data\n",
    "# # (x_train, y_train), (x_test, y_test) = _split_data(data_df['EventSequence'].values, data_df['Label'].values, train_ratio, split_type)"
   ]
  },
  {
   "cell_type": "code",
   "execution_count": null,
   "metadata": {},
   "outputs": [],
   "source": [
    "train_x, test_x = ab.randomSplit([0.8, 0.2], seed=12345)"
   ]
  },
  {
   "cell_type": "code",
   "execution_count": null,
   "metadata": {},
   "outputs": [],
   "source": [
    "train_y, test_y = label_csv.randomSplit([0.8, 0.2], seed=12345)"
   ]
  },
  {
   "cell_type": "code",
   "execution_count": null,
   "metadata": {},
   "outputs": [],
   "source": [
    "train_x.show(10)"
   ]
  },
  {
   "cell_type": "code",
   "execution_count": null,
   "metadata": {},
   "outputs": [],
   "source": [
    "# from pyspark.mllib.feature import HashingTF\n",
    "# from pyspark.mllib.feature import IDF"
   ]
  },
  {
   "cell_type": "code",
   "execution_count": null,
   "metadata": {},
   "outputs": [],
   "source": [
    "# hashingTF = HashingTF(100000)\n",
    "# tf = hashingTF.transform(documents)"
   ]
  },
  {
   "cell_type": "code",
   "execution_count": null,
   "metadata": {},
   "outputs": [],
   "source": [
    "# tf.cache()\n",
    "# idf = IDF(minDocFreq=1).fit(tf)"
   ]
  },
  {
   "cell_type": "code",
   "execution_count": null,
   "metadata": {},
   "outputs": [],
   "source": [
    "# from pyspark.ml import Pipeline\n",
    "# from pyspark.ml.classification import DecisionTreeClassifier\n",
    "# from pyspark.ml.feature import StringIndexer, VectorIndexer\n",
    "# from pyspark.ml.evaluation import MulticlassClassificationEvaluator\n",
    "# from pyspark.mllib.util import MLUtils"
   ]
  },
  {
   "cell_type": "code",
   "execution_count": null,
   "metadata": {},
   "outputs": [],
   "source": [
    "# labelIndexer = StringIndexer(inputCol=\"label\", outputCol=\"indexedLabel\").fit(data)\n",
    "# # Automatically identify categorical features, and index them.\n",
    "# # We specify maxCategories so features with > 4 distinct values are treated as continuous.\n",
    "# featureIndexer =\\\n",
    "#     VectorIndexer(inputCol=\"features\", outputCol=\"indexedFeatures\", maxCategories=4).fit(data)\n",
    "\n",
    "# # Split the data into training and test sets (30% held out for testing)\n",
    "# (trainingData, testData) = data.randomSplit([0.7, 0.3])\n",
    "\n",
    "# # Train a DecisionTree model.\n",
    "# dt = DecisionTreeClassifier(labelCol=\"indexedLabel\", featuresCol=\"indexedFeatures\")\n",
    "\n",
    "# # Chain indexers and tree in a Pipeline\n",
    "# pipeline = Pipeline(stages=[labelIndexer, featureIndexer, dt])\n",
    "\n",
    "# # Train model.  This also runs the indexers.\n",
    "# model = pipeline.fit(trainingData)\n",
    "\n",
    "# # Make predictions.\n",
    "# predictions = model.transform(testData)\n",
    "\n",
    "# # Select example rows to display.\n",
    "# predictions.select(\"prediction\", \"indexedLabel\", \"features\").show(5)\n",
    "\n",
    "# # Select (prediction, true label) and compute test error\n",
    "# evaluator = MulticlassClassificationEvaluator(\n",
    "#     labelCol=\"indexedLabel\", predictionCol=\"prediction\", metricName=\"precision\")\n",
    "# accuracy = evaluator.evaluate(predictions)\n",
    "# print \"Test Error = %g\" % (1.0 - accuracy)\n",
    "\n",
    "# treeModel = model.stages[2]"
   ]
  },
  {
   "cell_type": "code",
   "execution_count": null,
   "metadata": {},
   "outputs": [],
   "source": []
  },
  {
   "cell_type": "code",
   "execution_count": null,
   "metadata": {},
   "outputs": [],
   "source": []
  }
 ],
 "metadata": {
  "kernelspec": {
   "display_name": "Python 3",
   "language": "python",
   "name": "python3"
  },
  "language_info": {
   "codemirror_mode": {
    "name": "ipython",
    "version": 3
   },
   "file_extension": ".py",
   "mimetype": "text/x-python",
   "name": "python",
   "nbconvert_exporter": "python",
   "pygments_lexer": "ipython3",
   "version": "3.7.3"
  }
 },
 "nbformat": 4,
 "nbformat_minor": 2
}
